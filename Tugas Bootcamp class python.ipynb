{
 "metadata": {
  "language_info": {
   "codemirror_mode": {
    "name": "ipython",
    "version": 3
   },
   "file_extension": ".py",
   "mimetype": "text/x-python",
   "name": "python",
   "nbconvert_exporter": "python",
   "pygments_lexer": "ipython3",
   "version": "3.8.3-final"
  },
  "orig_nbformat": 2,
  "kernelspec": {
   "name": "python3",
   "display_name": "Python 3",
   "language": "python"
  }
 },
 "nbformat": 4,
 "nbformat_minor": 2,
 "cells": [
  {
   "cell_type": "code",
   "execution_count": 17,
   "metadata": {},
   "outputs": [
    {
     "output_type": "stream",
     "name": "stdout",
     "text": [
      "Berikut menu kami: \n0. Mojito: Rp8000\n1. Burger: Rp20000\n2. Cheese Cake: Rp25000 (Favorite)\n3. Brown Sugar Boba Fresh Milk: Rp24000 (Favorite)\n4. Milk Coffee: Rp13000\n"
     ]
    }
   ],
   "source": [
    "#class parent menu kafe\n",
    "class MenuKafe:\n",
    "    #mendefinisikan nama dan harga item\n",
    "    def __init__ (self, nama, harga):\n",
    "        self.nama = nama\n",
    "        self.harga = harga\n",
    "    #menampilkan nama dan harga barang\n",
    "    def informasi(self):\n",
    "        return(self.nama + \": Rp\" + str(self.harga))\n",
    "    #mendefinisika total harga pembelian utuk satu jenis barang\n",
    "    def get_harga_total(self, jumlah):\n",
    "        total = self.harga * jumlah\n",
    "        \n",
    "        #jika jumlah >=3, akan mendapat diskon 20%\n",
    "        if jumlah >= 3:\n",
    "            total *= 0.8\n",
    "        return round(total)\n",
    "\n",
    "#anak kelas untuk menu populer\n",
    "class Signature(MenuKafe):\n",
    "    def informasi(self):\n",
    "        return(self.nama + \": Rp\" + str(self.harga)+\" (Favorite)\")\n",
    "\n",
    "import pandas as pd\n",
    "#menanyakan nama pelanggan\n",
    "pelanggan=input(\"Selamat datang di kafe kami. Siapa nama Anda? \")\n",
    "\n",
    "#menampilkan menu yang ada\n",
    "print('Berikut menu kami: ')\n",
    "item1=MenuKafe('Mojito',8000)\n",
    "item2=MenuKafe('Burger',20000)\n",
    "item3=Signature('Cheese Cake',25000)\n",
    "item4=Signature('Brown Sugar Boba Fresh Milk',24000)\n",
    "item5=MenuKafe('Milk Coffee',13000)\n",
    "items=[item1,item2,item3,item4,item5]\n",
    "index = 0\n",
    "for item in items:\n",
    "    print(str(index)+\". \"+item.informasi())\n",
    "    index +=1\n",
    "\n",
    "#memesan menu\n",
    "order=int(input(\"Ingin pesan menu nomor berapa? \"))\n",
    "pesanan=items[order]\n",
    "qty=int(input(\"Mau pesan berapa? \"))\n",
    "total=pesanan.get_harga_total(qty)\n",
    "\n",
    "#Maukkan nama pesanan, quantity, dan harga total dalam list\n",
    "quantity = [qty]\n",
    "nama_pesanan=[pesanan.nama]\n",
    "harga=[total]\n",
    "\n",
    "#jika pesanan lebih dari 1 jenis\n",
    "lagi=input(\"Apakah ada tambahan? (yes/no)\")\n",
    "lagi=lagi.lower()\n",
    "while lagi !='no':\n",
    "    order=int(input(\"Ingin pesan menu nomor berapa? \"))\n",
    "    pesanan=items[order]\n",
    "    qty=int(input(\"Mau pesan berapa? \"))\n",
    "    total += pesanan.get_harga_total(qty)\n",
    "    #Memasukkan data pada list yang sudah ada\n",
    "    nama_pesanan.append(pesanan.nama)\n",
    "    quantity.append(qty)\n",
    "    harga.append(pesanan.get_harga_total(qty))\n",
    "    #Pertanyaan ulangan\n",
    "    lagi=input(\"Apakah ada tambahan? (yes/no)\")\n",
    "    lagi=lagi.lower()\n",
    "#memasukkan ke dalam dataframe\n",
    "df['Harga']=harga\n",
    "df['QTY']=quantity\n",
    "df['Pesanan']=nama_pesanan\n"
   ]
  },
  {
   "cell_type": "code",
   "execution_count": 25,
   "metadata": {},
   "outputs": [
    {
     "output_type": "stream",
     "name": "stdout",
     "text": [
      "------------------------------------------\nTERIMA KASIH TELAH MENGUNJUNGI KAFE KAMI\n------------------------------------------\n \nRincian pesanan Anda:\n   QTY      Pesanan  Harga\n0    2  Milk Coffee  26000\n1    2       Burger  40000\nTotal harga        Rp66000\n \n------------------------------------------\nTerima kasih Anisa!\nHarap tunggu. Pesanan anda sedang disiapkan.\nSilahkan bayar ke kasir\n"
     ]
    }
   ],
   "source": [
    "print(\"------------------------------------------\")\n",
    "print(\"TERIMA KASIH TELAH MENGUNJUNGI KAFE KAMI\")\n",
    "print(\"------------------------------------------\")\n",
    "print(\" \")\n",
    "print(\"Rincian pesanan Anda:\")\n",
    "print(df)\n",
    "#Jumlahynag harus dibayar\n",
    "print(\"Total harga        Rp\"+str(total))\n",
    "print(\" \")\n",
    "print(\"------------------------------------------\")\n",
    "print(\"Terima kasih \"+pelanggan+\"!\")\n",
    "print(\"Harap tunggu. Pesanan anda sedang disiapkan.\")"
   ]
  }
 ]
}